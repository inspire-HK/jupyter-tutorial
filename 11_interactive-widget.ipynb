{
 "cells": [
  {
   "cell_type": "markdown",
   "metadata": {},
   "source": [
    "### Interactive Widget: waveform\n",
    "\n",
    "**Important** ipywidgets ONLY works on Jupyter notebooks (Jupyter is replacing older iPython)\n",
    "\n",
    "https://www.youtube.com/watch?v=SN0Bflf14C4&list=RDCMUC2W0aQEPNpU6XrkFCYifRFQ&start_radio=1&rv=SN0Bflf14C4&t=45\n",
    "https://github.com/markjay4k/fourier-transform/blob/master/widgets_example.ipynb"
   ]
  },
  {
   "cell_type": "code",
   "execution_count": 2,
   "metadata": {},
   "outputs": [],
   "source": [
    "#%matplotlib widget\n",
    "\n",
    "import ipywidgets as widgets\n",
    "from IPython.display import display\n",
    "import matplotlib.pyplot as plt\n",
    "import numpy as np\n"
   ]
  },
  {
   "cell_type": "code",
   "execution_count": 4,
   "metadata": {},
   "outputs": [
    {
     "data": {
      "application/vnd.jupyter.widget-view+json": {
       "model_id": "04f8aacbabb94158829a11f69ac538fa",
       "version_major": 2,
       "version_minor": 0
      },
      "text/plain": [
       "interactive(children=(FloatSlider(value=2.0, description='Amp:', max=10.0, min=1.0), FloatSlider(value=0.0, de…"
      ]
     },
     "execution_count": 4,
     "metadata": {},
     "output_type": "execute_result"
    }
   ],
   "source": [
    "x = np.linspace(0, 2, 1000)\n",
    "fig, ax = plt.subplots(1, figsize=(10, 4))\n",
    "plt.suptitle('Sine Wave')\n",
    "\n",
    "\n",
    "def update_plot(amp, phase, freq):\n",
    "\n",
    "    ax.clear()\n",
    "    y = amp * np.sin(freq * 2 * np.pi * x + phase * 2 * np.pi)\n",
    "    units = 'amp = {} $(psi)$ \\nphase = {} $(s)$ \\nfreq = {} $(Hz)$'\n",
    "\n",
    "    ax.plot(x, y, label=units.format(amp, phase, freq))\n",
    "    ax.set_xlim(x[0], x[-1])\n",
    "    ax.legend(loc=1)\n",
    "    ax.set_xlabel('$(s)$')\n",
    "    plt.show()\n",
    "\n",
    "amp = widgets.FloatSlider(min=1, max=10, value=2, description='Amp:')\n",
    "phase = widgets.FloatSlider(min=0, max=5, value=0, description='Phase:')\n",
    "freq = widgets.FloatSlider(min=1, max=10, value=1, description='Freq:')\n",
    "# display(amp, phase, freq)\n",
    "\n",
    "widgets.interactive(update_plot, amp=amp, phase=phase, freq=freq)"
   ]
  }
 ],
 "metadata": {
  "kernelspec": {
   "display_name": "Python 3.10.7 64-bit (microsoft store)",
   "language": "python",
   "name": "python3"
  },
  "language_info": {
   "codemirror_mode": {
    "name": "ipython",
    "version": 3
   },
   "file_extension": ".py",
   "mimetype": "text/x-python",
   "name": "python",
   "nbconvert_exporter": "python",
   "pygments_lexer": "ipython3",
   "version": "3.12.0"
  },
  "orig_nbformat": 4,
  "vscode": {
   "interpreter": {
    "hash": "f5204562b952d1c4aff549ff4e436a4d4da975b74dcc1553092782cc0bb4e7dd"
   }
  }
 },
 "nbformat": 4,
 "nbformat_minor": 2
}
