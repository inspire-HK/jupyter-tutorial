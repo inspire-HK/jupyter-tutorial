{
 "cells": [
  {
   "cell_type": "code",
   "execution_count": 1,
   "metadata": {},
   "outputs": [],
   "source": [
    "### Class (OOP - Object-Oriented Programming)"
   ]
  },
  {
   "cell_type": "code",
   "execution_count": 2,
   "metadata": {},
   "outputs": [
    {
     "name": "stdout",
     "output_type": "stream",
     "text": [
      "john is an instance (object) with storing at memory 0x0????:  <__main__.Student object at 0x000001F3F8DA39E0>\n",
      "type(john):  <class '__main__.Student'>\n",
      "john's detail:  John Chan M 12.5\n",
      "John detail:  John Chan is 12.5 year old\n",
      "Peter detail:  Peter 88 is 10 year old\n"
     ]
    }
   ],
   "source": [
    "# define a class \"Student\", convention is that Class is capitalized.\n",
    "class Student:\n",
    "    # define properties (variables in a class)\n",
    "    def __init__(self, first_name: str, last_name, age: int | float, gender: str, extra: any):\n",
    "        self.first_name = first_name\n",
    "        self.last_name = last_name\n",
    "        self.age = age\n",
    "        self.gender = gender\n",
    "        self.extra = extra\n",
    "        self.full_name =  first_name + ' ' + str(last_name)\n",
    "\n",
    "    # define methods (functions in a class)\n",
    "    def detail(self):\n",
    "        return '{} {} is {} year old'.format(self.first_name, self.last_name, self.age)\n",
    "\n",
    "john = Student('John', 'Chan', 12.5, 'M', 'want to learn')\n",
    "\n",
    "print('john is an instance (object) with storing at memory 0x0????: ', john)\n",
    "print('type(john): ', type(john))\n",
    "\n",
    "print('john\\'s detail: ',john.full_name, john.gender, john.age)\n",
    "print('John detail: ', john.detail())\n",
    "\n",
    "peter = Student('Peter', 88, 10, 'NA', 'good student')\n",
    "print('Peter detail: ', peter.detail())"
   ]
  },
  {
   "cell_type": "code",
   "execution_count": 3,
   "metadata": {},
   "outputs": [
    {
     "name": "stdout",
     "output_type": "stream",
     "text": [
      "Mik Smith is Computer\n"
     ]
    }
   ],
   "source": [
    "## Class Inheritance\n",
    "\n",
    "class UniversityStudent(Student): # University is a super class of Student\n",
    "\n",
    "    def __init__(self, first_name, last_name, age, gender, extra, major): # instantiate\n",
    "        super().__init__(first_name, last_name, age, gender, extra) # super() to inherit from parent class\n",
    "        self.major = major\n",
    "\n",
    "    def __str__(self):\n",
    "        return f\"{self.first_name} {self.last_name} is {self.major} major.\"\n",
    "\n",
    "mike = UniversityStudent('Mik', 'Smith', 10, 'M', 'a good person', 'Computer')\n",
    "print(mike)"
   ]
  }
 ],
 "metadata": {
  "kernelspec": {
   "display_name": "Python 3.10.7 64-bit (microsoft store)",
   "language": "python",
   "name": "python3"
  },
  "language_info": {
   "codemirror_mode": {
    "name": "ipython",
    "version": 3
   },
   "file_extension": ".py",
   "mimetype": "text/x-python",
   "name": "python",
   "nbconvert_exporter": "python",
   "pygments_lexer": "ipython3",
   "version": "3.12.0"
  },
  "orig_nbformat": 4,
  "vscode": {
   "interpreter": {
    "hash": "f5204562b952d1c4aff549ff4e436a4d4da975b74dcc1553092782cc0bb4e7dd"
   }
  }
 },
 "nbformat": 4,
 "nbformat_minor": 2
}
