{
 "cells": [
  {
   "cell_type": "code",
   "execution_count": 1,
   "metadata": {},
   "outputs": [],
   "source": [
    "### Python is a dynamic typing language, however, python typing is primarily for functions (today)"
   ]
  },
  {
   "cell_type": "code",
   "execution_count": 2,
   "metadata": {},
   "outputs": [
    {
     "name": "stdout",
     "output_type": "stream",
     "text": [
      "a: type: {}, value: {} <class 'float'> 10.2\n",
      "a: type: {}, value: {} <class 'int'> 99\n",
      "a: type: {}, value: {} <class 'str'> Hello World\n"
     ]
    }
   ],
   "source": [
    "# python allows dynamically changing type\n",
    "a = 10.2 # initially assignment to\n",
    "print('a: type: {}, value: {}', type(a), a)\n",
    "a= 99 # re-assigned to 'int' type\n",
    "print('a: type: {}, value: {}', type(a), a)\n",
    "a = \"Hello World\"\n",
    "print('a: type: {}, value: {}', type(a), a)"
   ]
  },
  {
   "cell_type": "code",
   "execution_count": 3,
   "metadata": {},
   "outputs": [
    {
     "name": "stdout",
     "output_type": "stream",
     "text": [
      "result is:  3Hello\n"
     ]
    }
   ],
   "source": [
    "# No type hint\n",
    "def no_hint(a, b, c):\n",
    "    return str(a+b) + c\n",
    "\n",
    "result = no_hint(1, 2, 'Hello') # hover your mouse over \"no_hint\", no hinting info\n",
    "print('result is: ', result)\n"
   ]
  },
  {
   "cell_type": "code",
   "execution_count": 4,
   "metadata": {},
   "outputs": [
    {
     "ename": "TypeError",
     "evalue": "unsupported operand type(s) for +: 'int' and 'str'",
     "output_type": "error",
     "traceback": [
      "\u001b[1;31m---------------------------------------------------------------------------\u001b[0m",
      "\u001b[1;31mTypeError\u001b[0m                                 Traceback (most recent call last)",
      "Cell \u001b[1;32mIn[4], line 5\u001b[0m\n\u001b[0;32m      2\u001b[0m \u001b[38;5;28;01mdef\u001b[39;00m \u001b[38;5;21mhint\u001b[39m(a: \u001b[38;5;28mint\u001b[39m, b: \u001b[38;5;28mfloat\u001b[39m, c: \u001b[38;5;28mstr\u001b[39m)\u001b[38;5;241m-\u001b[39m\u001b[38;5;241m>\u001b[39m\u001b[38;5;28mstr\u001b[39m:\n\u001b[0;32m      3\u001b[0m     \u001b[38;5;28;01mreturn\u001b[39;00m \u001b[38;5;28mstr\u001b[39m(a\u001b[38;5;241m+\u001b[39mb) \u001b[38;5;241m+\u001b[39m c\n\u001b[1;32m----> 5\u001b[0m result \u001b[38;5;241m=\u001b[39m \u001b[43mhint\u001b[49m\u001b[43m(\u001b[49m\u001b[38;5;241;43m1\u001b[39;49m\u001b[43m,\u001b[49m\u001b[43m \u001b[49m\u001b[38;5;124;43m\"\u001b[39;49m\u001b[38;5;124;43mWorld\u001b[39;49m\u001b[38;5;124;43m\"\u001b[39;49m\u001b[43m,\u001b[49m\u001b[43m \u001b[49m\u001b[38;5;124;43m'\u001b[39;49m\u001b[38;5;124;43mHello\u001b[39;49m\u001b[38;5;124;43m'\u001b[39;49m\u001b[43m)\u001b[49m \u001b[38;5;66;03m# hover your mouse over hint (unfortunately VS code python notebook does not pick up this error)\u001b[39;00m\n",
      "Cell \u001b[1;32mIn[4], line 3\u001b[0m, in \u001b[0;36mhint\u001b[1;34m(a, b, c)\u001b[0m\n\u001b[0;32m      2\u001b[0m \u001b[38;5;28;01mdef\u001b[39;00m \u001b[38;5;21mhint\u001b[39m(a: \u001b[38;5;28mint\u001b[39m, b: \u001b[38;5;28mfloat\u001b[39m, c: \u001b[38;5;28mstr\u001b[39m)\u001b[38;5;241m-\u001b[39m\u001b[38;5;241m>\u001b[39m\u001b[38;5;28mstr\u001b[39m:\n\u001b[1;32m----> 3\u001b[0m     \u001b[38;5;28;01mreturn\u001b[39;00m \u001b[38;5;28mstr\u001b[39m(\u001b[43ma\u001b[49m\u001b[38;5;241;43m+\u001b[39;49m\u001b[43mb\u001b[49m) \u001b[38;5;241m+\u001b[39m c\n",
      "\u001b[1;31mTypeError\u001b[0m: unsupported operand type(s) for +: 'int' and 'str'"
     ]
    }
   ],
   "source": [
    "# Function with type hinting\n",
    "def hint(a: int, b: float, c: str)->str:\n",
    "    return str(a+b) + c\n",
    "\n",
    "result = hint(1, \"World\", 'Hello') # hover your mouse over hint (unfortunately VS code python notebook does not pick up this error)"
   ]
  }
 ],
 "metadata": {
  "kernelspec": {
   "display_name": "Python 3.10.7 64-bit (microsoft store)",
   "language": "python",
   "name": "python3"
  },
  "language_info": {
   "codemirror_mode": {
    "name": "ipython",
    "version": 3
   },
   "file_extension": ".py",
   "mimetype": "text/x-python",
   "name": "python",
   "nbconvert_exporter": "python",
   "pygments_lexer": "ipython3",
   "version": "3.12.0"
  },
  "orig_nbformat": 4,
  "vscode": {
   "interpreter": {
    "hash": "f5204562b952d1c4aff549ff4e436a4d4da975b74dcc1553092782cc0bb4e7dd"
   }
  }
 },
 "nbformat": 4,
 "nbformat_minor": 2
}
