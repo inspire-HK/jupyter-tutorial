{
 "cells": [
  {
   "cell_type": "markdown",
   "metadata": {},
   "source": [
    "## Numpy is a third party library for vector & matrix manipulation"
   ]
  },
  {
   "cell_type": "code",
   "execution_count": 1,
   "metadata": {},
   "outputs": [
    {
     "name": "stdout",
     "output_type": "stream",
     "text": [
      "Defaulting to user installation because normal site-packages is not writeable\n",
      "Requirement already satisfied: numpy in c:\\users\\alex\\appdata\\roaming\\python\\python312\\site-packages (1.26.2)\n"
     ]
    }
   ],
   "source": [
    "# to install numpy in jupyter notebook\n",
    "! pip install numpy"
   ]
  },
  {
   "cell_type": "code",
   "execution_count": 2,
   "metadata": {},
   "outputs": [],
   "source": [
    "# import numpy\n",
    "# numpy is an external module/package, you need to install manually, $ pip install numpy\n",
    "import numpy as np # import and then alias as \"np\"\n"
   ]
  },
  {
   "cell_type": "markdown",
   "metadata": {},
   "source": []
  },
  {
   "cell_type": "code",
   "execution_count": 4,
   "metadata": {},
   "outputs": [
    {
     "name": "stdout",
     "output_type": "stream",
     "text": [
      "[1. 1. 1. 1.]\n",
      "[0. 0. 0. 0.]\n",
      "[1 2 3 4]\n",
      "[0.9894602  0.62811431 0.36365392 0.78464236 0.05183141]\n",
      "[-1.         -0.77777778 -0.55555556 -0.33333333 -0.11111111  0.11111111\n",
      "  0.33333333  0.55555556  0.77777778  1.        ]\n"
     ]
    }
   ],
   "source": [
    "# data generation\n",
    "\n",
    "# type the following: np. ctrl-space\n",
    "print(np.ones(4)) # observe: 1. is a float (floating-point)\n",
    "print(np.zeros(4)) # \"0.\" is a float as well\n",
    "print(np.array([1,2,3,4]))\n",
    "print(np.random.random(5)) # generate 5 random numbers (0-0.999....)\n",
    "\n",
    "print(np.linspace(-1, 1, 10)) # generate 10 linearly spaced between -1 and 1"
   ]
  },
  {
   "cell_type": "code",
   "execution_count": null,
   "metadata": {},
   "outputs": [
    {
     "name": "stdout",
     "output_type": "stream",
     "text": [
      "value of a matrix is:  [[1 2 3]\n",
      " [4 5 6]] \n",
      "shape of a matrix is:  (2, 3)\n",
      "value of a vector is:  [5 6 7 8] \n",
      "shape of a vector is:  (4,)\n",
      "vector multiplication:  32\n",
      "matrix multiplication:  [[ 45  51]\n",
      " [105 120]]\n"
     ]
    }
   ],
   "source": [
    "# math convention: matrix is multi-dimensional\n",
    "matrix = np.array([[1,2,3],[4,5,6]]) # two dimensional array\n",
    "print(\"value of a matrix is: \", matrix, \"\\nshape of a matrix is: \", matrix.shape)\n",
    "\n",
    "# naming convention: vector is one-dimensional\n",
    "vector = np.array([5,6,7,8])\n",
    "print(\"value of a vector is: \", vector, \"\\nshape of a vector is: \", vector.shape) # value the shape\n",
    "\n",
    "# vector multiplication\n",
    "vec_a = np.array([1,2,3])\n",
    "vec_b = np.array([4,5,6]).transpose()\n",
    "print('vector multiplication: ', vec_a @ vec_b) # 1*4 + 2*5 + 3*6\n",
    "\n",
    "# matrix multiplication\n",
    "mat_a = np.array([[1,2,3],[4,5,6]])\n",
    "mat_b = np.array([[4,5],[7,8], [9,10]])\n",
    "print('matrix multiplication: ', mat_a @ mat_b)\n"
   ]
  }
 ],
 "metadata": {
  "kernelspec": {
   "display_name": "Python 3.10.7 64-bit (microsoft store)",
   "language": "python",
   "name": "python3"
  },
  "language_info": {
   "codemirror_mode": {
    "name": "ipython",
    "version": 3
   },
   "file_extension": ".py",
   "mimetype": "text/x-python",
   "name": "python",
   "nbconvert_exporter": "python",
   "pygments_lexer": "ipython3",
   "version": "3.12.0"
  },
  "orig_nbformat": 4,
  "vscode": {
   "interpreter": {
    "hash": "f5204562b952d1c4aff549ff4e436a4d4da975b74dcc1553092782cc0bb4e7dd"
   }
  }
 },
 "nbformat": 4,
 "nbformat_minor": 2
}
