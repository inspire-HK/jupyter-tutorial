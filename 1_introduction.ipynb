{
 "cells": [
  {
   "cell_type": "markdown",
   "metadata": {},
   "source": [
    "## Python Basics: My first notebook\n",
    "\n",
    "### Goals:\n",
    "- getting python notebook to work\n",
    "- basic programming concepts\n",
    "\n",
    "**Warning** Python 2 is obsolete, make sure you are using Python3 (latest version is preferred for advanced usage)."
   ]
  },
  {
   "cell_type": "code",
   "execution_count": 15,
   "metadata": {},
   "outputs": [
    {
     "name": "stdout",
     "output_type": "stream",
     "text": [
      "value of a is:  1\n",
      "value of b is:  2\n",
      "value of c is:  3\n"
     ]
    }
   ],
   "source": [
    "# set variables a & b, and print the value\n",
    "a = 1 # assignment of value\n",
    "b = 2\n",
    "c = a + b\n",
    "print('value of a is: ', a) # print() function to print \"a\"\n",
    "print('value of b is: ', b)\n",
    "print('value of c is: ', c)"
   ]
  },
  {
   "cell_type": "code",
   "execution_count": 3,
   "metadata": {},
   "outputs": [
    {
     "data": {
      "text/plain": [
       "5"
      ]
     },
     "execution_count": 3,
     "metadata": {},
     "output_type": "execute_result"
    }
   ],
   "source": [
    "# use print() to display\n",
    "1 + 2 # this result will not be shown, so use print(1+2)\n",
    "2 + 3 # only the result of the last statement is shown"
   ]
  },
  {
   "cell_type": "code",
   "execution_count": 17,
   "metadata": {},
   "outputs": [
    {
     "name": "stdout",
     "output_type": "stream",
     "text": [
      "3\n",
      "14\n",
      "16\n",
      "-4\n",
      "2.5\n",
      "2\n",
      "1\n",
      "8\n"
     ]
    }
   ],
   "source": [
    "# arithmetic operators\n",
    "print(1 + 2)\n",
    "print(10 + 2 * 3) # for beginner, type print(10+ (2*3)), prettier will convert to print(10+2*3)\n",
    "print( (2 - 3) * 4)\n",
    "print( 5 / 2 )\n",
    "print(5//2) # round down to integer\n",
    "print( 7 % 2 ) # modulo (reminder of the division)\n",
    "print( 2 ** 3) # 2^3"
   ]
  },
  {
   "cell_type": "code",
   "execution_count": 5,
   "metadata": {},
   "outputs": [
    {
     "name": "stdout",
     "output_type": "stream",
     "text": [
      "SimpleEnough\n",
      "Simple Enough\n",
      "*****\n"
     ]
    }
   ],
   "source": [
    "# string\n",
    "string1 = 'Simple'\n",
    "string2 = 'Enough'\n",
    "string3 = string1 + string2\n",
    "print(string3)\n",
    "string3 = string1 + ' ' + string2\n",
    "print(string3)\n",
    "\n",
    "print(5 * '*')"
   ]
  },
  {
   "cell_type": "code",
   "execution_count": 6,
   "metadata": {},
   "outputs": [
    {
     "name": "stdout",
     "output_type": "stream",
     "text": [
      "single-quote\n",
      "They are the same:  True\n",
      "That's simple\n",
      "That's simple \n",
      "\n",
      "Good Job\n"
     ]
    }
   ],
   "source": [
    "# single-quote & double quote\n",
    "print('single-quote')\n",
    "print('They are the same: ', 'same' == \"same\") # == : comparison operator\n",
    "\n",
    "print('That\\'s simple') # \\ is an \"escape\" character\n",
    "print(\"That's simple \\n\") # \\n is new line\n",
    "print('Good Job')"
   ]
  },
  {
   "cell_type": "code",
   "execution_count": 7,
   "metadata": {},
   "outputs": [
    {
     "name": "stdout",
     "output_type": "stream",
     "text": [
      "Are a & b the same ? False\n",
      "Are c & d the same ? False\n"
     ]
    }
   ],
   "source": [
    "# string vs integer\n",
    "a = '1234'\n",
    "b = 1234\n",
    "c = 1234.5\n",
    "d = '1234.5'\n",
    "print('Are a & b the same ?', a == b)\n",
    "print('Are c & d the same ?', c == d)"
   ]
  },
  {
   "cell_type": "code",
   "execution_count": 8,
   "metadata": {},
   "outputs": [
    {
     "name": "stdout",
     "output_type": "stream",
     "text": [
      "type of 1 <class 'int'>\n",
      "type of 1.2 <class 'float'>\n",
      "type of Alex <class 'str'>\n",
      "type of True <class 'bool'>\n",
      "type of True <class 'str'>\n",
      "type of [1, 2, 3, 4] <class 'list'>\n"
     ]
    }
   ],
   "source": [
    "# type: integer, float, string, boolean, list of integer\n",
    "a = 1\n",
    "b = 1.2 \n",
    "c = 'Alex'\n",
    "d = True\n",
    "e = 'True'\n",
    "f = [1,2,3,4]\n",
    "\n",
    "print('type of', a,type(a))\n",
    "print('type of', b,type(b)) \n",
    "print('type of', c,type(c))\n",
    "print('type of', d,type(d))\n",
    "print('type of', e,type(e))\n",
    "print('type of', f,type(f))"
   ]
  },
  {
   "cell_type": "code",
   "execution_count": 2,
   "metadata": {},
   "outputs": [
    {
     "name": "stdout",
     "output_type": "stream",
     "text": [
      "result : 6.0 ; type:  <class 'float'>\n"
     ]
    }
   ],
   "source": [
    "# cast (\"convert\" from one type to another)\n",
    "a = 2.  # float\n",
    "b = 3\n",
    "c = a * b # b is converting to float before multiplication\n",
    "print('result :', c, '; type: ', type(c)) "
   ]
  },
  {
   "cell_type": "code",
   "execution_count": 9,
   "metadata": {},
   "outputs": [
    {
     "name": "stdout",
     "output_type": "stream",
     "text": [
      "1234 5678 12345678\n",
      "1234+5678 6912\n"
     ]
    }
   ],
   "source": [
    "# cast int to string, and concatenate with another string\n",
    "a = 1234\n",
    "b = '5678'\n",
    "print('1234 5678', str(a) + b)\n",
    "print('1234+5678', a + int(b))"
   ]
  },
  {
   "cell_type": "code",
   "execution_count": 2,
   "metadata": {},
   "outputs": [],
   "source": [
    "# summation function(colon & indentation indicates body of the function)\n",
    "def add(x, y=10): # y default value is 10 (if y is not passed in)\n",
    "    print('x & y: ', x, '&', y)\n",
    "    return x + y"
   ]
  },
  {
   "cell_type": "code",
   "execution_count": 3,
   "metadata": {},
   "outputs": [
    {
     "name": "stdout",
     "output_type": "stream",
     "text": [
      "x & y:  2 & 3\n",
      "result is:  5\n",
      "----------\n",
      "x & y:  3 & 4.5\n",
      "add again:  7.5\n",
      "----------\n",
      "x & y:  5 & 10\n",
      "how about....  15\n"
     ]
    }
   ],
   "source": [
    "# use the \"add\" function\n",
    "result = add(2, 3)\n",
    "print('result is: ', result)\n",
    "\n",
    "print('----------')\n",
    "print('add again: ', add(3, 4.5))\n",
    "\n",
    "print('----------')\n",
    "print('how about.... ', add(5)) # observe: only one argument"
   ]
  },
  {
   "cell_type": "code",
   "execution_count": 18,
   "metadata": {},
   "outputs": [
    {
     "name": "stdout",
     "output_type": "stream",
     "text": [
      "These are even numbers: [2, 4, 6, 8, 10] <class 'list'>\n",
      "My favorite fruits are  ['Orange', 'Banana', 'Apple']\n",
      "All my favorite fruits:  ['Orange', 'Banana', 'Apple', '蜜瓜']\n",
      "In alphabetical order:  ['Apple', 'Banana', 'Orange', '蜜瓜']\n",
      "first fruit in list:  Apple\n",
      "last fruit in list: 蜜瓜\n",
      "Is apple in my favorite list ? True\n",
      "length of the list 4\n"
     ]
    }
   ],
   "source": [
    "# List (array)\n",
    "even_numbers = [2,4,6,8,10]\n",
    "print('These are even numbers:', even_numbers, type(even_numbers))\n",
    "\n",
    "my_favorite_fruits = ['Orange', 'Bananaaaa', 'Apple' ]\n",
    "my_favorite_fruits[1] ='Banana' # index starts from 0\n",
    "print('My favorite fruits are ', my_favorite_fruits)\n",
    "\n",
    "my_favorite_fruits.append('蜜瓜')\n",
    "print('All my favorite fruits: ', my_favorite_fruits)\n",
    "\n",
    "my_favorite_fruits.sort()\n",
    "print('In alphabetical order: ', my_favorite_fruits)\n",
    "\n",
    "print('first fruit in list: ', my_favorite_fruits[0])\n",
    "print('last fruit in list:', my_favorite_fruits[-1])\n",
    "\n",
    "print('Is apple in my favorite list ?', 'Apple' in my_favorite_fruits)\n",
    "\n",
    "print('length of the list', len(my_favorite_fruits)) # len (length) is a built-in function"
   ]
  },
  {
   "cell_type": "code",
   "execution_count": 11,
   "metadata": {},
   "outputs": [
    {
     "name": "stdout",
     "output_type": "stream",
     "text": [
      "a is zero\n"
     ]
    }
   ],
   "source": [
    "# condition\n",
    "a = 0\n",
    "if (a == 0):\n",
    "    print('a is zero')\n",
    "elif (a > 0):  # else if\n",
    "    print('a is a positive number')\n",
    "else:\n",
    "    print('a is a negative number')\n"
   ]
  },
  {
   "cell_type": "code",
   "execution_count": 12,
   "metadata": {},
   "outputs": [
    {
     "name": "stdout",
     "output_type": "stream",
     "text": [
      "value of x: False\n",
      "value of y: True\n",
      "value of z: True\n"
     ]
    }
   ],
   "source": [
    "# assign result (boolean) of comparison to a variable\n",
    "x = 3 == 2\n",
    "print('value of x:', x)\n",
    "\n",
    "y = 3 != 2\n",
    "print('value of y:', y)\n",
    "\n",
    "z = 3 >= 2\n",
    "print('value of z:', z)"
   ]
  },
  {
   "cell_type": "code",
   "execution_count": 13,
   "metadata": {},
   "outputs": [
    {
     "name": "stdout",
     "output_type": "stream",
     "text": [
      "Is the price between 10 and 19.99999:  True\n"
     ]
    }
   ],
   "source": [
    "# join two (multiple) conditions\n",
    "price = 15\n",
    "print('Is the price between 10 and 19.99999: ', price >= 10 and price < 20)"
   ]
  },
  {
   "cell_type": "code",
   "execution_count": 14,
   "metadata": {},
   "outputs": [
    {
     "name": "stdout",
     "output_type": "stream",
     "text": [
      "False\n"
     ]
    }
   ],
   "source": [
    "print(not(True)) # True is capitalized\n",
    "print(not(False))"
   ]
  },
  {
   "cell_type": "code",
   "execution_count": 19,
   "metadata": {},
   "outputs": [
    {
     "name": "stdout",
     "output_type": "stream",
     "text": [
      "0\n",
      "1\n",
      "2\n",
      "3\n",
      "4\n"
     ]
    }
   ],
   "source": [
    "# while loop\n",
    "i = 0\n",
    "while (i<3):\n",
    "    print(i)\n",
    "    i += 1 # long form: i = i + 1"
   ]
  },
  {
   "cell_type": "code",
   "execution_count": 6,
   "metadata": {},
   "outputs": [
    {
     "name": "stdout",
     "output_type": "stream",
     "text": [
      "value of i:  0\n",
      "value of i:  1\n",
      "value of i:  2\n"
     ]
    }
   ],
   "source": [
    "# for loop\n",
    "for i in range(3):\n",
    "    print('value of i: ', i)"
   ]
  }
 ],
 "metadata": {
  "kernelspec": {
   "display_name": "Python 3.10.7 64-bit",
   "language": "python",
   "name": "python3"
  },
  "language_info": {
   "codemirror_mode": {
    "name": "ipython",
    "version": 3
   },
   "file_extension": ".py",
   "mimetype": "text/x-python",
   "name": "python",
   "nbconvert_exporter": "python",
   "pygments_lexer": "ipython3",
   "version": "3.10.7"
  },
  "orig_nbformat": 4,
  "vscode": {
   "interpreter": {
    "hash": "a7dbb88c84ecda04e2dfa8176cb6708abf8c95c32934f510df16d1a1f4945387"
   }
  }
 },
 "nbformat": 4,
 "nbformat_minor": 2
}
