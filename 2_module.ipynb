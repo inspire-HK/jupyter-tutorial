{
 "cells": [
  {
   "cell_type": "markdown",
   "metadata": {},
   "source": [
    "## module, package, library\n",
    "\n",
    "Modules, aka (also known as) packages or libraries offer additional functions (function calls or class). \n",
    "Built-in modules (such as os, sys) are written by Python, you could import directly without additional installation.\n",
    "\n",
    "External modules are developed by kind people of (open-source) Python community. They are shared on https://pypi.org/.\n",
    "Installation is needed. For example\n",
    "```\n",
    "# if using anaconda\n",
    "$ conda install numpy\n",
    "\n",
    "# if using pure python interpreter\n",
    "$ pip install numpy\n",
    "```"
   ]
  },
  {
   "cell_type": "code",
   "execution_count": 11,
   "metadata": {},
   "outputs": [
    {
     "name": "stdout",
     "output_type": "stream",
     "text": [
      "This computer runs on nt operating system (NT means Microsoft Windows\n",
      "This computer name is Vulcan\n"
     ]
    }
   ],
   "source": [
    "# operating system\n",
    "import os\n",
    "print('This computer runs on', os.name,'operating system') # NT means Microsoft Windows O/S\n",
    "\n",
    "# my machine (computer) name\n",
    "import socket # bad practice here (import should be hoisted/put at the top of the file)\n",
    "print('This computer name is', socket.gethostname())"
   ]
  },
  {
   "cell_type": "code",
   "execution_count": 18,
   "metadata": {},
   "outputs": [
    {
     "name": "stdout",
     "output_type": "stream",
     "text": [
      "Python version: 3.10.7 (tags/v3.10.7:6cc6b13, Sep  5 2022, 14:08:36) [MSC v.1933 64 bit (AMD64)] ( win32 )\n",
      "Python version (full info): sys.version_info(major=3, minor=10, micro=7, releaselevel='final', serial=0)\n"
     ]
    }
   ],
   "source": [
    "# python version\n",
    "import sys\n",
    "\n",
    "print('Python version:', sys.version, '(', sys.platform, ')')\n",
    "print('Python version (full info):', sys.version_info)"
   ]
  },
  {
   "cell_type": "code",
   "execution_count": 20,
   "metadata": {},
   "outputs": [
    {
     "name": "stdout",
     "output_type": "stream",
     "text": [
      "[1. 1. 1. 1.]\n",
      "[0. 0. 0. 0.]\n",
      "[1 2 3 4]\n",
      "[0.75407241 0.79649187 0.99418744 0.88553591 0.35575365]\n"
     ]
    }
   ],
   "source": [
    "# import numpy\n",
    "# numpy is an external module/package, you need to install manually, $ pip install numpy\n",
    "import numpy as np # import and then alias as \"np\"\n",
    "\n",
    "# type the following: np. ctrl-space\n",
    "print(np.ones(4)) # observe: 1. is a float (floating-point)\n",
    "print(np.zeros(4)) # \"0.\" is a float as well\n",
    "print(np.array([1,2,3,4]))\n",
    "print(np.random.random(5)) # generate 5 random numbers (0-0.999....)\n"
   ]
  },
  {
   "cell_type": "code",
   "execution_count": 21,
   "metadata": {},
   "outputs": [
    {
     "name": "stdout",
     "output_type": "stream",
     "text": [
      "[0.2601953  0.06306881 0.65732135 0.25266945 0.81005372]\n"
     ]
    }
   ],
   "source": [
    "# import \"sub-feature\"\n",
    "from numpy import random as rand # pseudo code: rand = (import numpy).random\n",
    "print(rand.random(5)) # numpy.random.random(5)"
   ]
  }
 ],
 "metadata": {
  "kernelspec": {
   "display_name": "Python 3.10.7 64-bit (microsoft store)",
   "language": "python",
   "name": "python3"
  },
  "language_info": {
   "codemirror_mode": {
    "name": "ipython",
    "version": 3
   },
   "file_extension": ".py",
   "mimetype": "text/x-python",
   "name": "python",
   "nbconvert_exporter": "python",
   "pygments_lexer": "ipython3",
   "version": "3.10.7"
  },
  "orig_nbformat": 4,
  "vscode": {
   "interpreter": {
    "hash": "f5204562b952d1c4aff549ff4e436a4d4da975b74dcc1553092782cc0bb4e7dd"
   }
  }
 },
 "nbformat": 4,
 "nbformat_minor": 2
}
